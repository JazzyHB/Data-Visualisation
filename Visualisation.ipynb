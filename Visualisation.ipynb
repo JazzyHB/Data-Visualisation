{
 "cells": [
  {
   "cell_type": "markdown",
   "metadata": {},
   "source": [
    "# Data Visualisation in Python"
   ]
  },
  {
   "cell_type": "markdown",
   "metadata": {},
   "source": [
    "#### The aim of this Data Visualisation workshop is to build a scatterplot step by step using the <font color=blue>gapminder dataset</font>. This dataset provides information about the life expectancy, the Gross Domestic Product (GDP), and the population for each country in the world in 2016. Our scatterplot will include information about the Gross Domestic Product (GDP) (x axis) versus the life expectancy (y axis) worldwide."
   ]
  },
  {
   "cell_type": "code",
   "execution_count": 24,
   "metadata": {
    "jupyter": {
     "source_hidden": true
    }
   },
   "outputs": [
    {
     "data": {
      "image/jpeg": "[encoded data removed]",
      "text/html": [
       "\n",
       "        <iframe\n",
       "            width=\"400\"\n",
       "            height=\"300\"\n",
       "            src=\"https://www.youtube.com/embed/jbkSRLYSojo\"\n",
       "            frameborder=\"0\"\n",
       "            allowfullscreen\n",
       "        ></iframe>\n",
       "        "
      ],
      "text/plain": [
       "<IPython.lib.display.YouTubeVideo at 0x7f904696e250>"
      ]
     },
     "execution_count": 24,
     "metadata": {},
     "output_type": "execute_result"
    }
   ],
   "source": [
    "from IPython.lib.display import YouTubeVideo\n",
    "YouTubeVideo('jbkSRLYSojo')"
   ]
  },
  {
   "cell_type": "markdown",
   "metadata": {},
   "source": [
    "****"
   ]
  },
  {
   "cell_type": "markdown",
   "metadata": {},
   "source": [
    "## Import the libraries"
   ]
  },
  {
   "cell_type": "markdown",
   "metadata": {},
   "source": [
    "#### Python doesn’t load all the libraries by default. We have to add an import statement to our code to use the available functions of a library. Please check the next cell to learn how to import a library in Python."
   ]
  },
  {
   "cell_type": "code",
   "execution_count": 9,
   "metadata": {},
   "outputs": [],
   "source": [
    "import numpy as np\n",
    "import matplotlib.pyplot as plt\n",
    "import pandas as pd\n",
    "import seaborn as sns"
   ]
  },
  {
   "cell_type": "markdown",
   "metadata": {},
   "source": [
    "#### The following command is only applicable if you use Jupyter and is to let us plot within Jupyter ipython notebooks"
   ]
  },
  {
   "cell_type": "code",
   "execution_count": 2,
   "metadata": {},
   "outputs": [],
   "source": [
    "%matplotlib inline"
   ]
  },
  {
   "cell_type": "markdown",
   "metadata": {},
   "source": [
    "****\n",
    "#### The following statement will load the gapminder dataset into the SWAN environment ready for processing:"
   ]
  },
  {
   "cell_type": "code",
   "execution_count": null,
   "metadata": {},
   "outputs": [],
   "source": [
    "!TMPFILE='mktemp' ; wget -c https://jazzyhb.github.io/Data.zip -O $TMPFILE && unzip $TMPFILE && rm $TMPFILE"
   ]
  },
  {
   "cell_type": "markdown",
   "metadata": {},
   "source": [
    "****"
   ]
  },
  {
   "cell_type": "markdown",
   "metadata": {},
   "source": [
    "## Import the dataset as dataframe usings Pandas"
   ]
  },
  {
   "cell_type": "markdown",
   "metadata": {},
   "source": [
    "#### A DataFrame is a 2-dimensional data structure that can store data of different types (including characters, integers, floating point numbers, factors and more) in columns. It is similar to a spreadsheet or an SQL table. A DataFrame always has an index (0-based). An index refers to the position of an element in the data structure. Let’s load the gapminder dataset in Python by using the read_csv function from the Pandas library:"
   ]
  },
  {
   "cell_type": "code",
   "execution_count": null,
   "metadata": {},
   "outputs": [],
   "source": [
    "gapminder_2016 = pd.read_csv(\"./Data/gapminder_2016.csv\")"
   ]
  },
  {
   "cell_type": "markdown",
   "metadata": {},
   "source": [
    "#### <font color=red>Be careful with the path you use! If you get an error, it means that you are not in the correct location.</font>"
   ]
  },
  {
   "cell_type": "markdown",
   "metadata": {},
   "source": [
    "#### Check the type of the variable gapminder_2016"
   ]
  },
  {
   "cell_type": "code",
   "execution_count": null,
   "metadata": {},
   "outputs": [],
   "source": [
    "print(type(gapminder_2016))"
   ]
  },
  {
   "cell_type": "markdown",
   "metadata": {},
   "source": [
    "#### If the statement returns <class 'pandas.core.frame.DataFrame'> then you have imported the gapminder dataset as a Pandas Data Frame in Python.\n",
    "****"
   ]
  },
  {
   "cell_type": "markdown",
   "metadata": {},
   "source": [
    "## Explore the dataset using Pandas"
   ]
  },
  {
   "cell_type": "markdown",
   "metadata": {},
   "source": [
    "#### To check the variable type of each column of the data frame, we can use the dtypes command:"
   ]
  },
  {
   "cell_type": "code",
   "execution_count": null,
   "metadata": {},
   "outputs": [],
   "source": [
    "print(gapminder_2016.dtypes)"
   ]
  },
  {
   "cell_type": "markdown",
   "metadata": {},
   "source": [
    "#### The gap_2016_df dataframe includes 5 variables (columns), namely country, continent, life expectancy, Gross Domestic Product Per Capita in US dollars and population. The object type corresponds to characters (strings), float64 to a floating point number and int64 to an integer. <br> <br> Display the column names by using the columns command:"
   ]
  },
  {
   "cell_type": "code",
   "execution_count": null,
   "metadata": {},
   "outputs": [],
   "source": [
    "print(gapminder_2016.columns)"
   ]
  },
  {
   "cell_type": "markdown",
   "metadata": {},
   "source": [
    "#### Display the dimensions of the dataframe by using the shape command:"
   ]
  },
  {
   "cell_type": "code",
   "execution_count": null,
   "metadata": {},
   "outputs": [],
   "source": [
    "print(gapminder_2016.shape)"
   ]
  },
  {
   "cell_type": "markdown",
   "metadata": {},
   "source": [
    "#### So the gapminder_2016 dataset contains 190 rows and 5 columns."
   ]
  },
  {
   "cell_type": "markdown",
   "metadata": {},
   "source": [
    "#### Display the first few lines of the dataframe by using the head command (by default head without any argument will give you the first five rows):"
   ]
  },
  {
   "cell_type": "code",
   "execution_count": null,
   "metadata": {},
   "outputs": [],
   "source": [
    "print(gapminder_2016.head())"
   ]
  },
  {
   "cell_type": "markdown",
   "metadata": {},
   "source": [
    "#### Display the last few lines of the dataframe by using the tales command:"
   ]
  },
  {
   "cell_type": "code",
   "execution_count": null,
   "metadata": {},
   "outputs": [],
   "source": [
    "print(gapminder_2016.tail())"
   ]
  },
  {
   "cell_type": "markdown",
   "metadata": {},
   "source": [
    "#### Look at the column values:"
   ]
  },
  {
   "cell_type": "code",
   "execution_count": null,
   "metadata": {},
   "outputs": [],
   "source": [
    "print(gapminder_2016.columns.values)"
   ]
  },
  {
   "cell_type": "markdown",
   "metadata": {},
   "source": [
    "#### The previous command returns a list with all the column names as elements of this list."
   ]
  },
  {
   "cell_type": "markdown",
   "metadata": {},
   "source": [
    "#### Check the unique values in a column of the dataframe:"
   ]
  },
  {
   "cell_type": "code",
   "execution_count": null,
   "metadata": {},
   "outputs": [],
   "source": [
    "print(pd.unique(gapminder_2016['continent']))"
   ]
  },
  {
   "cell_type": "markdown",
   "metadata": {},
   "source": [
    "#### We can calculate basic statistics (such as count, average value, standard deviation, minimum and maximum values and more) for a column of the dataset using the describe command:"
   ]
  },
  {
   "cell_type": "code",
   "execution_count": null,
   "metadata": {},
   "outputs": [],
   "source": [
    "print(gapminder_2016['pop'].describe(),'\\n')"
   ]
  },
  {
   "cell_type": "markdown",
   "metadata": {},
   "source": [
    "#### Let’s calculate the minimum, maximum, average, and standard deviation of the population worldwide, and count how many elements we have (number of countries) in the dataset:"
   ]
  },
  {
   "cell_type": "code",
   "execution_count": null,
   "metadata": {},
   "outputs": [],
   "source": [
    "print(\"min=\",gapminder_2016['pop'].min(),\"\\n\")\n",
    "print(\"max=\",gapminder_2016['pop'].max(),\"\\n\")\n",
    "print(\"avg=\",gapminder_2016['pop'].mean(),\"\\n\")\n",
    "print(\"std=\",gapminder_2016['pop'].std(),\"\\n\")\n",
    "print(\"count=\",gapminder_2016['pop'].count(),\"\\n\")"
   ]
  },
  {
   "cell_type": "markdown",
   "metadata": {},
   "source": [
    "#### <font color=red>NOTE: The \\n within the print command stands for new line, so it tells print to add a new line after the command is executed.</font>"
   ]
  },
  {
   "cell_type": "markdown",
   "metadata": {},
   "source": [
    "#### Calculate summary statistics grouped by subsets or attributes within fields of our data. For example, we might want to calculate the some basic statistics per continent, or to calculate the average values for life expectancy, GDP per capita and population per continent."
   ]
  },
  {
   "cell_type": "code",
   "execution_count": null,
   "metadata": {},
   "outputs": [],
   "source": [
    "# Group data by continent\n",
    "grouped_df = gapminder_2016.groupby('continent')\n",
    "# Calculate basic statistics for the group data by continent\n",
    "grouped_df.describe()"
   ]
  },
  {
   "cell_type": "code",
   "execution_count": null,
   "metadata": {},
   "outputs": [],
   "source": [
    "grouped_df.mean()"
   ]
  },
  {
   "cell_type": "markdown",
   "metadata": {},
   "source": [
    "#### Group data using two or more columns. Here we group by continent and then by country and we calculate the average value:"
   ]
  },
  {
   "cell_type": "code",
   "execution_count": null,
   "metadata": {},
   "outputs": [],
   "source": [
    "grouped_data2 = gapminder_2016.groupby(['continent','country'])\n",
    "grouped_data2.mean()"
   ]
  },
  {
   "cell_type": "markdown",
   "metadata": {},
   "source": [
    "#### Select a ‘subset’ of the data, i.e. only the country names, using the column name (Column Headings):"
   ]
  },
  {
   "cell_type": "code",
   "execution_count": null,
   "metadata": {},
   "outputs": [],
   "source": [
    "print(gapminder_2016['country'])"
   ]
  },
  {
   "cell_type": "markdown",
   "metadata": {},
   "source": [
    "#### Select rows and columns from the dataset using iloc. In this example, we select the first 3 rows and the first 4 columns:"
   ]
  },
  {
   "cell_type": "code",
   "execution_count": null,
   "metadata": {},
   "outputs": [],
   "source": [
    "# When we ask for 0:3, we are actually telling Python to start at index 0 and select rows 0, 1, 2 up to but not including 3.\n",
    "gapminder_2016.iloc[0:3, 0:4]"
   ]
  },
  {
   "cell_type": "markdown",
   "metadata": {},
   "source": [
    "#### Select all columns for rows of index values 0 and 10:"
   ]
  },
  {
   "cell_type": "code",
   "execution_count": null,
   "metadata": {},
   "outputs": [],
   "source": [
    "gapminder_2016.loc[[0, 10], :]"
   ]
  },
  {
   "cell_type": "markdown",
   "metadata": {},
   "source": [
    "#### Select the first row and the country, continent and pop columns (labels):"
   ]
  },
  {
   "cell_type": "code",
   "execution_count": null,
   "metadata": {},
   "outputs": [],
   "source": [
    "gapminder_2016.loc[[0], ['country', 'continent', 'pop']]"
   ]
  },
  {
   "cell_type": "markdown",
   "metadata": {},
   "source": [
    "#### we can also slice the dataset using conditions. Here, we select all the countries that belong to ‘Americas’ continent:"
   ]
  },
  {
   "cell_type": "code",
   "execution_count": null,
   "metadata": {},
   "outputs": [],
   "source": [
    "gapminder_2016[gapminder_2016.continent == 'Americas']"
   ]
  },
  {
   "cell_type": "markdown",
   "metadata": {},
   "source": [
    "#### or we can select the countries where GDP Per Capita is less than 2,000 USD:"
   ]
  },
  {
   "cell_type": "code",
   "execution_count": null,
   "metadata": {},
   "outputs": [],
   "source": [
    "gapminder_2016[gapminder_2016.gdpPercap < 2000]"
   ]
  },
  {
   "cell_type": "markdown",
   "metadata": {},
   "source": [
    "#### We can also combine conditions. For example, we can select a subset of countries that have GDP Per Capita less than 15,000 USD and belong to ‘Europe’ continent:"
   ]
  },
  {
   "cell_type": "code",
   "execution_count": null,
   "metadata": {},
   "outputs": [],
   "source": [
    "gapminder_2016[(gapminder_2016.gdpPercap < 15000) & (gapminder_2016.continent == 'Europe')]"
   ]
  },
  {
   "cell_type": "markdown",
   "metadata": {},
   "source": [
    "#### Use the isin command in Python to query a dataframe using a list of options to match. Here, we select all countries that belong to Asian and Oceania:"
   ]
  },
  {
   "cell_type": "code",
   "execution_count": null,
   "metadata": {},
   "outputs": [],
   "source": [
    "gapminder_2016[gapminder_2016['continent'].isin(['Asia', 'Oceania'])]"
   ]
  },
  {
   "cell_type": "markdown",
   "metadata": {},
   "source": [
    "## Creating a scatterplot: step by step guide"
   ]
  },
  {
   "cell_type": "markdown",
   "metadata": {},
   "source": [
    "#### As mentioned before, the goal is to create a scatterplot with the Gross Domestic Product in the x axis and the life expectancy in the y axis for all the countries in the gapminder 2016 dataset."
   ]
  },
  {
   "cell_type": "markdown",
   "metadata": {},
   "source": [
    "#### We can start by plotting a basic scatterplot. In seabron 0.9.0, the function to create a scatterplot is called scatterplot, and we need to pass the values for three parameters, i.e. the values for the x axis, the values for the y axis, and the name of the dataframe (dataset to look for this values:"
   ]
  },
  {
   "cell_type": "markdown",
   "metadata": {},
   "source": [
    "#### <font color=red>PLEASE NOTE: that in previous versions of seaborn (before seaborn 0.9.0), scatterplot is not available. Use the lmplot function instead. Be careful though, as the lmplot function is slightly different than scatterplot.</font>"
   ]
  },
  {
   "cell_type": "code",
   "execution_count": null,
   "metadata": {},
   "outputs": [],
   "source": [
    "####################################################################################\n",
    "# Plot the scatterplot\n",
    "####################################################################################\n",
    "\n",
    "fig1=sns.scatterplot(x='gdpPercap', y='lifeExp', data=gapminder_2016, # Choose the x and y values and the dataframe \n",
    "          )"
   ]
  },
  {
   "cell_type": "markdown",
   "metadata": {},
   "source": [
    "#### <font color=red>PLEASE NOTE: for the x and y axis, we need just to pass the column names of the dataframe. This is because by providing the data input parameter, seaborn scans the dataframe and extracts the information for the columns..</font>"
   ]
  },
  {
   "cell_type": "markdown",
   "metadata": {},
   "source": [
    "#### We can make the figure bigger by using the figsize of the matplotlib figure function:"
   ]
  },
  {
   "cell_type": "code",
   "execution_count": null,
   "metadata": {},
   "outputs": [],
   "source": [
    "####################################################################################\n",
    "# Plot the scatterplot\n",
    "####################################################################################\n",
    "\n",
    "# Make the figure bigger\n",
    "plt.figure(figsize=(14,10))\n",
    "\n",
    "sns.scatterplot(x='gdpPercap', y='lifeExp', data=gapminder_2016, # Choose the x and y values and the dataframe \n",
    "          )"
   ]
  },
  {
   "cell_type": "markdown",
   "metadata": {},
   "source": [
    "#### Here, we modify the marker style using the markers parameter in scatterplot:"
   ]
  },
  {
   "cell_type": "code",
   "execution_count": null,
   "metadata": {},
   "outputs": [],
   "source": [
    "####################################################################################\n",
    "# Plot the scatterplot\n",
    "####################################################################################\n",
    "\n",
    "# Make the figure bigger\n",
    "plt.figure(figsize=(14,10))\n",
    "\n",
    "fig1=sns.scatterplot(x='gdpPercap', y='lifeExp', data=gapminder_2016, # Choose the x and y values and the dataframe \n",
    "                     markers=\"o\", # Change the markers' style\n",
    "          )"
   ]
  },
  {
   "cell_type": "markdown",
   "metadata": {},
   "source": [
    "#### Change the size of the markers in the figure using the s parameter:"
   ]
  },
  {
   "cell_type": "code",
   "execution_count": null,
   "metadata": {},
   "outputs": [],
   "source": [
    "####################################################################################\n",
    "# Plot the scatterplot\n",
    "####################################################################################\n",
    "\n",
    "# Make the figure bigger\n",
    "plt.figure(figsize=(14,10))\n",
    "\n",
    "fig1=sns.scatterplot(x='gdpPercap', y='lifeExp', data=gapminder_2016, # Choose the x and y values and the dataframe \n",
    "                     markers=\"o\", # Change the markers' style\n",
    "                     s=140, # Change the size of the markers \n",
    "          )"
   ]
  },
  {
   "cell_type": "markdown",
   "metadata": {},
   "source": [
    "#### Modify the color of the markers using the color parameter:"
   ]
  },
  {
   "cell_type": "code",
   "execution_count": null,
   "metadata": {},
   "outputs": [],
   "source": [
    "####################################################################################\n",
    "# Plot the scatterplot\n",
    "####################################################################################\n",
    "\n",
    "# Make the figure bigger\n",
    "plt.figure(figsize=(14,10))\n",
    "\n",
    "fig1=sns.scatterplot(x='gdpPercap', y='lifeExp', data=gapminder_2016, # Choose the x and y values and the dataframe \n",
    "                     markers=\"o\", # Change the markers' style\n",
    "                     s=140, # Change the size of the markers \n",
    "                     color=\"black\", # Change the color of the markers\n",
    "          )"
   ]
  },
  {
   "cell_type": "markdown",
   "metadata": {},
   "source": [
    "#### Change the edge color and the edge line of the markers by using the edgecolor and linewidht parameters:"
   ]
  },
  {
   "cell_type": "code",
   "execution_count": null,
   "metadata": {},
   "outputs": [],
   "source": [
    "####################################################################################\n",
    "# Plot the scatterplot\n",
    "####################################################################################\n",
    "\n",
    "# Make the figure bigger\n",
    "plt.figure(figsize=(14,10))\n",
    "\n",
    "fig1=sns.scatterplot(x='gdpPercap', y='lifeExp', data=gapminder_2016, # Choose the x and y values and the dataframe \n",
    "                     markers=\"o\", # Change the markers' style\n",
    "                     s=140, # Change the size of the markers \n",
    "                     color=\"black\", # Change the color of the markers\n",
    "                     edgecolor= \"white\", # Change the edge color of the markers\n",
    "                     linewidth=2, # Change the edge linewidth of the markers\n",
    "          )"
   ]
  },
  {
   "cell_type": "markdown",
   "metadata": {},
   "source": [
    "#### Change the opacity of the markers using the alpha parameters of scatterplot:"
   ]
  },
  {
   "cell_type": "code",
   "execution_count": null,
   "metadata": {},
   "outputs": [],
   "source": [
    "####################################################################################\n",
    "# Plot the scatterplot\n",
    "####################################################################################\n",
    "\n",
    "# Make the figure bigger\n",
    "plt.figure(figsize=(14,10))\n",
    "\n",
    "fig1=sns.scatterplot(x='gdpPercap', y='lifeExp', data=gapminder_2016, # Choose the x and y values and the dataframe \n",
    "                     markers=\"o\", # Change the markers' style\n",
    "                     s=140, # Change the size of the markers \n",
    "                     color=\"black\", # Change the color of the markers\n",
    "                     edgecolor= \"white\", # Change the edge color of the markers\n",
    "                     linewidth=2, # Change the edge linewidth of the markers\n",
    "                     alpha=0.8, # Change the opacity of the markers\n",
    "          )"
   ]
  },
  {
   "cell_type": "markdown",
   "metadata": {},
   "source": [
    "#### You can differentiate the color of the markers by continent (countries that belong in the same continenet will be displayed with the same color) by passing the continent variable in the hue parameter:"
   ]
  },
  {
   "cell_type": "code",
   "execution_count": null,
   "metadata": {},
   "outputs": [],
   "source": [
    "####################################################################################\n",
    "# Plot the scatterplot\n",
    "####################################################################################\n",
    "\n",
    "# Make the figure bigger\n",
    "plt.figure(figsize=(14,10))\n",
    "\n",
    "fig1=sns.scatterplot(x='gdpPercap', y='lifeExp', data=gapminder_2016, # Choose the x and y values and the dataframe \n",
    "                     hue='continent', # Color by condinent\n",
    "                     markers=\"o\", # Change the markers' style\n",
    "                     s=140, # Change the size of the markers \n",
    "                     edgecolor= \"white\", # Change the edge color of the markers\n",
    "                     linewidth=1, # Change the edge linewidth of the markers\n",
    "          )"
   ]
  },
  {
   "cell_type": "markdown",
   "metadata": {},
   "source": [
    "#### Let’s change the colour palette according to the colors used in the olympic flag:"
   ]
  },
  {
   "cell_type": "code",
   "execution_count": null,
   "metadata": {},
   "outputs": [],
   "source": [
    "####################################################################################\n",
    "# Plot the scatterplot\n",
    "####################################################################################\n",
    "\n",
    "# Make the figure bigger\n",
    "plt.figure(figsize=(14,10))\n",
    "\n",
    "fig1=sns.scatterplot(x='gdpPercap', y='lifeExp', data=gapminder_2016, # Choose the x and y values and the dataframe \n",
    "                     hue='continent', # Color by condinent\n",
    "                     markers=\"o\", # Change the markers' style\n",
    "                     s=140, # Change the size of the markers \n",
    "                     edgecolor= \"white\", # Change the edge color of the markers\n",
    "                     linewidth=1, # Change the edge linewidth of the markers\n",
    "                     palette=dict(Africa=\"black\", Asia=(0.8, 0.8, 0), # Change the colors according to the \n",
    "                                  Americas=\"red\", Europe=\"blue\", # olympic flag\n",
    "                                  Oceania=\"green\")\n",
    "          )"
   ]
  },
  {
   "cell_type": "markdown",
   "metadata": {},
   "source": [
    "#### By adding the size parameter, we can differentiate the marker size by the population (pop variable) of each country:"
   ]
  },
  {
   "cell_type": "code",
   "execution_count": null,
   "metadata": {},
   "outputs": [],
   "source": [
    "####################################################################################\n",
    "# Plot the scatterplot\n",
    "####################################################################################\n",
    "\n",
    "# Make the figure bigger\n",
    "plt.figure(figsize=(14,10))\n",
    "\n",
    "fig1=sns.scatterplot(x='gdpPercap', y='lifeExp', data=gapminder_2016, # Choose the x and y values and the dataframe \n",
    "                     hue='continent', # Color by condinent\n",
    "                     size='pop', # Size of markers by population\n",
    "                     markers=\"o\", # Change the markers' style\n",
    "                     s=140, # Change the size of the markers \n",
    "                     edgecolor= \"white\", # Change the edge color of the markers\n",
    "                     linewidth=1, # Change the edge linewidth of the markers\n",
    "                     palette=dict(Africa=\"black\", Asia=(0.8, 0.8, 0), # Change the colors according to the \n",
    "                                  Americas=\"red\", Europe=\"blue\", # olympic flag\n",
    "                                  Oceania=\"green\")\n",
    "          )"
   ]
  },
  {
   "cell_type": "markdown",
   "metadata": {},
   "source": [
    "#### Change the scale of the marker sizes by setting the minimum and maximum value:"
   ]
  },
  {
   "cell_type": "code",
   "execution_count": null,
   "metadata": {},
   "outputs": [],
   "source": [
    "####################################################################################\n",
    "# Plot the scatterplot\n",
    "####################################################################################\n",
    "\n",
    "# Make the figure bigger\n",
    "plt.figure(figsize=(14,10))\n",
    "\n",
    "fig1=sns.scatterplot(x='gdpPercap', y='lifeExp', data=gapminder_2016, # Choose the x and y values and the dataframe \n",
    "                     hue='continent', # Color by condinent\n",
    "                     size='pop', # Size of markers by population\n",
    "                     sizes=(20, 2000), # minimum and maximum marker size\n",
    "                     markers=\"o\", # Change the markers' style\n",
    "                     s=140, # Change the size of the markers \n",
    "                     edgecolor= \"white\", # Change the edge color of the markers\n",
    "                     linewidth=1, # Change the edge linewidth of the markers\n",
    "                     palette=dict(Africa=\"black\", Asia=(0.8, 0.8, 0), # Change the colors according to the \n",
    "                                  Americas=\"red\", Europe=\"blue\", # olympic flag\n",
    "                                  Oceania=\"green\")\n",
    "          )"
   ]
  },
  {
   "cell_type": "markdown",
   "metadata": {},
   "source": [
    "#### Seaborn and matlplot libraries can be combined for better results. Modify the existing legend by using matplotlib (plt.legend), which gives you more options for configurations:"
   ]
  },
  {
   "cell_type": "code",
   "execution_count": null,
   "metadata": {},
   "outputs": [],
   "source": [
    "####################################################################################\n",
    "# Plot the scatterplot\n",
    "####################################################################################\n",
    "\n",
    "# Make the figure bigger\n",
    "plt.figure(figsize=(14,10))\n",
    "\n",
    "# Change the minimum and maximum point size\n",
    "fig1=sns.scatterplot(x='gdpPercap', y='lifeExp', data=gapminder_2016, # Choose the x and y values and the dataframe \n",
    "                     hue='continent', # Color by condinent\n",
    "                     size='pop', # Size of markers by population\n",
    "                     sizes=(20, 2000), # minimum and maximum marker size\n",
    "                     markers=\"o\", # Change the markers' style\n",
    "                     s=140, # Change the size of the markers \n",
    "                     edgecolor= \"white\", # Change the edge color of the markers\n",
    "                     linewidth=1, # Change the edge linewidth of the markers\n",
    "                     palette=dict(Africa=\"black\", Asia=(0.8, 0.8, 0), # Change the colors according to the \n",
    "                                  Americas=\"red\", Europe=\"blue\", # olympic flag\n",
    "                                  Oceania=\"green\")\n",
    "          )\n",
    "\n",
    "\n",
    "####################################################################################\n",
    "# Use the matplotlib library to edit the plot\n",
    "####################################################################################\n",
    "\n",
    "# Legend\n",
    "lgd = plt.legend(loc=\"lower right\", frameon = 0.5, framealpha=0.8, # Create a legend and define its location, frame and frame alpha\n",
    "                 edgecolor='white', facecolor='white', ncol=2, # Edgecolor, facecolor and the number of columns\n",
    "                 title='', fontsize=14, # the title and the font size\n",
    "                 handlelength=2, handleheight=2, \n",
    "                 markerscale=0.7) "
   ]
  },
  {
   "cell_type": "markdown",
   "metadata": {},
   "source": [
    "#### Let’s modify now the x and y limits of the figure (plt.xlim and plt.ylim) and add labels for the x (plt.xlabel) and y (plt.ylabel) axis:"
   ]
  },
  {
   "cell_type": "code",
   "execution_count": null,
   "metadata": {},
   "outputs": [],
   "source": [
    "####################################################################################\n",
    "# Plot the scatterplot\n",
    "####################################################################################\n",
    "\n",
    "# Make the plot bigger\n",
    "plt.figure(figsize=(14,10))\n",
    "\n",
    "# Change the minimum and maximum point size\n",
    "fig1=sns.scatterplot(x='gdpPercap', y='lifeExp', data=gapminder_2016, # Choose the x and y values and the dataframe \n",
    "                     hue='continent', # Color by condinent\n",
    "                     size='pop', # Size of markers by population\n",
    "                     sizes=(20, 2000), # minimum and maximum marker size\n",
    "                     markers=\"o\", # Change the markers' style\n",
    "                     s=140, # Change the size of the markers \n",
    "                     edgecolor= \"white\", # Change the edge color of the markers\n",
    "                     linewidth=1, # Change the edge linewidth of the markers\n",
    "                     palette=dict(Africa=\"black\", Asia=(0.8, 0.8, 0), # Change the colors according to the \n",
    "                                  Americas=\"red\", Europe=\"blue\", # olympic flag\n",
    "                                  Oceania=\"green\")\n",
    "          )\n",
    "\n",
    "\n",
    "####################################################################################\n",
    "# Use the matplotlib library to edit the plot\n",
    "####################################################################################\n",
    "\n",
    "# Legend\n",
    "lgd = plt.legend(loc=\"lower right\", frameon = 0.5, framealpha=0.8, # Create a legend and define its location, frame and frame alpha\n",
    "                 edgecolor='white', facecolor='white', ncol=2, # Edgecolor, facecolor and the number of columns\n",
    "                 title='', fontsize=14, # the title and the font size\n",
    "                 handlelength=2, handleheight=2, \n",
    "                 markerscale=0.7) \n",
    "\n",
    "# x, y limits and labels\n",
    "plt.xlim(-10000, 160000) # Change the x axis limits\n",
    "plt.ylim(40, 90) # Change the y axis limits\n",
    "plt.xlabel('GDP Per Capita [$USD]', fontsize=16) # Add the x axis label\n",
    "plt.ylabel('Life Expectancy [years]', fontsize=16) # Add the y axis label"
   ]
  },
  {
   "cell_type": "markdown",
   "metadata": {},
   "source": [
    "#### Modify the x and y ticks (plt.xticks, plt.yticks and plt.tick_params()) and add grid lines (plt.grid(True)):"
   ]
  },
  {
   "cell_type": "code",
   "execution_count": null,
   "metadata": {},
   "outputs": [],
   "source": [
    "####################################################################################\n",
    "# Plot the scatterplot\n",
    "####################################################################################\n",
    "\n",
    "# Make the plot bigger\n",
    "plt.figure(figsize=(14,10))\n",
    "\n",
    "# Change the minimum and maximum point size\n",
    "fig1=sns.scatterplot(x='gdpPercap', y='lifeExp', data=gapminder_2016, # Choose the x and y values and the dataframe \n",
    "                     hue='continent', # Color by condinent\n",
    "                     size='pop', # Size of markers by population\n",
    "                     sizes=(20, 2000), # minimum and maximum marker size\n",
    "                     markers=\"o\", # Change the markers' style\n",
    "                     s=140, # Change the size of the markers \n",
    "                     edgecolor= \"white\", # Change the edge color of the markers\n",
    "                     linewidth=1, # Change the edge linewidth of the markers\n",
    "                     palette=dict(Africa=\"black\", Asia=(0.8, 0.8, 0), # Change the colors according to the \n",
    "                                  Americas=\"red\", Europe=\"blue\", # olympic flag\n",
    "                                  Oceania=\"green\")\n",
    "          )\n",
    "\n",
    "\n",
    "####################################################################################\n",
    "# Use the matplotlib library to edit the plot\n",
    "####################################################################################\n",
    "\n",
    "# Legend\n",
    "lgd = plt.legend(loc=\"lower right\", frameon = 0.5, framealpha=0.8, # Create a legend and define its location, frame and frame alpha\n",
    "                 edgecolor='white', facecolor='white', ncol=2, # Edgecolor, facecolor and the number of columns\n",
    "                 title='', fontsize=14, # the title and the font size\n",
    "                 handlelength=2, handleheight=2, \n",
    "                 markerscale=0.7) \n",
    "\n",
    "# x, y limits and labels\n",
    "plt.xlim(-10000, 160000) # Change the x axis limits\n",
    "plt.ylim(40, 90) # Change the y axis limits\n",
    "plt.xlabel('GDP Per Capita [$USD]', fontsize=16) # Add the x axis label\n",
    "plt.ylabel('Life Expectancy [years]', fontsize=16) # Add the y axis label\n",
    "\n",
    "# x,y ticks and grid\n",
    "plt.xticks([0, 50000, 100000, 150000]) # Change the xticks spacing using standard labels\n",
    "plt.yticks(range(40,90,10)) # Change the yticks spacing using a range of values\n",
    "plt.tick_params(axis='both', labelsize=14) # Change the parameters for the x and y axis\n",
    "plt.grid(True) # Display the grid lines"
   ]
  },
  {
   "cell_type": "markdown",
   "metadata": {},
   "source": [
    "#### Add a title (plt.title) in the figure. Let’s also create a text to provide some useful information for our dataset, such as the average life expectancy and the average GDP per capita worldwide. We do this by adding it as a text within the figure (plt.text):"
   ]
  },
  {
   "cell_type": "code",
   "execution_count": null,
   "metadata": {},
   "outputs": [],
   "source": [
    "####################################################################################\n",
    "# Plot the scatterplot\n",
    "####################################################################################\n",
    "\n",
    "# Make the plot bigger\n",
    "plt.figure(figsize=(14,10))\n",
    "\n",
    "# Change the minimum and maximum point size\n",
    "fig1=sns.scatterplot(x='gdpPercap', y='lifeExp', data=gapminder_2016, # Choose the x and y values and the dataframe \n",
    "                     hue='continent', # Color by condinent\n",
    "                     size='pop', # Size of markers by population\n",
    "                     sizes=(20, 2000), # minimum and maximum marker size\n",
    "                     markers=\"o\", # Change the markers' style\n",
    "                     s=140, # Change the size of the markers \n",
    "                     edgecolor= \"white\", # Change the edge color of the markers\n",
    "                     linewidth=1, # Change the edge linewidth of the markers\n",
    "                     palette=dict(Africa=\"black\", Asia=(0.8, 0.8, 0), # Change the colors according to the \n",
    "                                  Americas=\"red\", Europe=\"blue\", # olympic flag\n",
    "                                  Oceania=\"green\")\n",
    "          )\n",
    "\n",
    "\n",
    "####################################################################################\n",
    "# Use the matplotlib library to edit the plot\n",
    "####################################################################################\n",
    "\n",
    "# Legend\n",
    "lgd = plt.legend(loc=\"lower right\", frameon = 0.5, framealpha=0.8, # Create a legend and define its location, frame and frame alpha\n",
    "                 edgecolor='white', facecolor='white', ncol=2, # Edgecolor, facecolor and the number of columns\n",
    "                 title='', fontsize=14, # the title and the font size\n",
    "                 handlelength=2, handleheight=2, \n",
    "                 markerscale=0.7) \n",
    "\n",
    "# x, y limits and labels\n",
    "plt.xlim(-10000, 160000) # Change the x axis limits\n",
    "plt.ylim(40, 90) # Change the y axis limits\n",
    "plt.xlabel('GDP Per Capita [$USD]', fontsize=16) # Add the x axis label\n",
    "plt.ylabel('Life Expectancy [years]', fontsize=16) # Add the y axis label\n",
    "\n",
    "# x,y ticks and grid\n",
    "plt.xticks([0, 50000, 100000, 150000]) # Change the xticks spacing using standard labels\n",
    "plt.yticks(range(40,90,10)) # Change the yticks spacing using a range of values\n",
    "plt.tick_params(axis='both', labelsize=14) # Change the parameters for the x and y axis\n",
    "plt.grid(True) # Display the grid lines\n",
    "\n",
    "# Calculate the average life expectancy worldwide\n",
    "avg_lifeExp = round(sum(gapminder_2016['lifeExp'] * gapminder_2016['pop'])/sum(gapminder_2016['pop']),2)\n",
    "# Calculate the average GDP per capita worldwide\n",
    "avg_gdp = round(sum(gapminder_2016['gdpPercap'] * gapminder_2016['pop'])/sum(gapminder_2016['pop']),2)\n",
    "# Define the subtitle that will be used in the subtitle of the graph showing the average life \n",
    "# expectancy and GDP per capita worldwide\n",
    "my_subtitle=\"Average  life  expectancy  worldwide: %s  years.\\nAverage GDP per capita worldwide: %s $US\" % (avg_lifeExp, avg_gdp)\n",
    "\n",
    "plt.title('GapMinder 2016', fontsize=18, y=1.06, x=0.1) # Add the plot title and change the x and y location of the title\n",
    "plt.text(90000,86.5, my_subtitle, size=12, backgroundcolor=\"white\")"
   ]
  },
  {
   "cell_type": "markdown",
   "metadata": {},
   "source": [
    "#### And that’s the final figure. It looks much better than the initial figure, right? We also provide much more information in our final figure compared to the initial on"
   ]
  },
  {
   "cell_type": "markdown",
   "metadata": {},
   "source": [
    "#### You can save (export) the figure you just created by using the savefig command. You can also specify some parameters in the savefig, such as the resolution of the figure (dpi) and the transparency of the background (transparent=True):"
   ]
  },
  {
   "cell_type": "code",
   "execution_count": null,
   "metadata": {},
   "outputs": [],
   "source": [
    "####################################################################################\n",
    "# Plot the scatterplot\n",
    "####################################################################################\n",
    "\n",
    "# Make the plot bigger\n",
    "plt.figure(figsize=(14,10))\n",
    "\n",
    "# Change the minimum and maximum point size\n",
    "fig1=sns.scatterplot(x='gdpPercap', y='lifeExp', data=gapminder_2016, # Choose the x and y values and the dataframe \n",
    "                     hue='continent', # Color by condinent\n",
    "                     size='pop', # Size of markers by population\n",
    "                     sizes=(20, 2000), # minimum and maximum marker size\n",
    "                     markers=\"o\", # Change the markers' style\n",
    "                     s=140, # Change the size of the markers \n",
    "                     edgecolor= \"white\", # Change the edge color of the markers\n",
    "                     linewidth=1, # Change the edge linewidth of the markers\n",
    "                     palette=dict(Africa=\"black\", Asia=(0.8, 0.8, 0), # Change the colors according to the \n",
    "                                  Americas=\"red\", Europe=\"blue\", # olympic flag\n",
    "                                  Oceania=\"green\")\n",
    "          )\n",
    "\n",
    "\n",
    "####################################################################################\n",
    "# Use the matplotlib library to edit the plot\n",
    "####################################################################################\n",
    "\n",
    "# Legend\n",
    "lgd = plt.legend(loc=\"lower right\", frameon = 0.5, framealpha=0.8, # Create a legend and define its location, frame and frame alpha\n",
    "                 edgecolor='white', facecolor='white', ncol=2, # Edgecolor, facecolor and the number of columns\n",
    "                 title='', fontsize=14, # the title and the font size\n",
    "                 handlelength=2, handleheight=2, \n",
    "                 markerscale=0.7) \n",
    "\n",
    "# x, y limits and labels\n",
    "plt.xlim(-10000, 160000) # Change the x axis limits\n",
    "plt.ylim(40, 90) # Change the y axis limits\n",
    "plt.xlabel('GDP Per Capita [$USD]', fontsize=16) # Add the x axis label\n",
    "plt.ylabel('Life Expectancy [years]', fontsize=16) # Add the y axis label\n",
    "\n",
    "# x,y ticks and grid\n",
    "plt.xticks([0, 50000, 100000, 150000]) # Change the xticks spacing using standard labels\n",
    "plt.yticks(range(40,90,10)) # Change the yticks spacing using a range of values\n",
    "plt.tick_params(axis='both', labelsize=14) # Change the parameters for the x and y axis\n",
    "plt.grid(True) # Display the grid lines\n",
    "\n",
    "# Calculate the average life expectancy worldwide\n",
    "avg_lifeExp = round(sum(gapminder_2016['lifeExp'] * gapminder_2016['pop'])/sum(gapminder_2016['pop']),2)\n",
    "# Calculate the average GDP per capita worldwide\n",
    "avg_gdp = round(sum(gapminder_2016['gdpPercap'] * gapminder_2016['pop'])/sum(gapminder_2016['pop']),2)\n",
    "# Define the subtitle that will be used in the subtitle of the graph showing the average life \n",
    "# expectancy and GDP per capita worldwide\n",
    "my_subtitle=\"Average  life  expectancy  worldwide: %s  years.\\nAverage GDP per capita worldwide: %s $US\" % (avg_lifeExp, avg_gdp)\n",
    "\n",
    "plt.title('GapMinder 2016', fontsize=18, y=1.06, x=0.1) # Add the plot title and change the x and y location of the title\n",
    "plt.text(90000,86.5, my_subtitle, size=12, backgroundcolor=\"white\")\n",
    "\n",
    "\n",
    "####################################################################################\n",
    "# Save the figure\n",
    "####################################################################################\n",
    "myplot = fig1.get_figure()\n",
    "myplot.savefig(\"my_first_plot.png\", dpi=300, transparent=True)"
   ]
  },
  {
   "cell_type": "code",
   "execution_count": null,
   "metadata": {},
   "outputs": [],
   "source": []
  }
 ],
 "metadata": {
  "kernelspec": {
   "display_name": "Python 3",
   "language": "python",
   "name": "python3"
  },
  "language_info": {
   "codemirror_mode": {
    "name": "ipython",
    "version": 3
   },
   "file_extension": ".py",
   "mimetype": "text/x-python",
   "name": "python",
   "nbconvert_exporter": "python",
   "pygments_lexer": "ipython3",
   "version": "3.7.6"
  }
 },
 "nbformat": 4,
 "nbformat_minor": 4
}